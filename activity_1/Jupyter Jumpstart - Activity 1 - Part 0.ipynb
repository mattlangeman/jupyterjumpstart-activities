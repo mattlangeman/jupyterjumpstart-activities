{
 "cells": [
  {
   "cell_type": "markdown",
   "metadata": {},
   "source": [
    "## Hello World\n",
    "Welcome to our first notebook. We will be looking at average price data taken from the [U.S. Bureau of Labor Statistics](https://www.bls.gov/data/)\n",
    " * Loading Excel files into a Pandas dataframe\n",
    " * Selecting data from a dataframe\n",
    " * Dropping rows\n",
    " * Renaming columns\n",
    " * Melting (unpivoting) columns\n",
    " * Creating a datetime index\n",
    " * Plotting a simple line chart\n",
    "    "
   ]
  },
  {
   "cell_type": "code",
   "execution_count": null,
   "metadata": {},
   "outputs": [],
   "source": []
  }
 ],
 "metadata": {
  "kernelspec": {
   "display_name": "Python 3",
   "language": "python",
   "name": "python3"
  },
  "language_info": {
   "codemirror_mode": {
    "name": "ipython",
    "version": 3
   },
   "file_extension": ".py",
   "mimetype": "text/x-python",
   "name": "python",
   "nbconvert_exporter": "python",
   "pygments_lexer": "ipython3",
   "version": "3.6.11"
  }
 },
 "nbformat": 4,
 "nbformat_minor": 4
}
