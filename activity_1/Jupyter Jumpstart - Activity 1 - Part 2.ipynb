{
 "cells": [
  {
   "cell_type": "code",
   "execution_count": 1,
   "metadata": {},
   "outputs": [],
   "source": [
    "import pandas"
   ]
  },
  {
   "cell_type": "code",
   "execution_count": 2,
   "metadata": {},
   "outputs": [],
   "source": [
    "item_files = [\"Apples.xlsx\", \"Bananas.xlsx\", \"Coffee.xlsx\", \"Flour.xlsx\", \"Milk.xlsx\", \"Peanut butter.xlsx\", \n",
    "              \"Spaghetti and macaroni.xlsx\", \"White Bread.xlsx\", \"Whole Wheat Bread.xlsx\"]"
   ]
  },
  {
   "cell_type": "code",
   "execution_count": 3,
   "metadata": {},
   "outputs": [],
   "source": [
    "df_list = []\n",
    "for item_file in item_files:\n",
    "    df = pandas.read_excel(item_file)\n",
    "    item = df.iloc[5][1]\n",
    "    column_names = list(range(0, 13))\n",
    "    column_names[0] = 'year'\n",
    "    df.columns = column_names\n",
    "    df = df.drop(range(0, 9))\n",
    "    df = pandas.melt(df, id_vars=['year'], value_vars=df.columns[1:])\n",
    "    df.columns = ['year', 'month', 'value']\n",
    "    df['item'] = item\n",
    "    df_list.append(df)"
   ]
  },
  {
   "cell_type": "code",
   "execution_count": 4,
   "metadata": {},
   "outputs": [],
   "source": [
    "all_data = pandas.concat(df_list)\n",
    "all_data.to_csv('all_price_data.csv', index=False)"
   ]
  }
 ],
 "metadata": {
  "kernelspec": {
   "display_name": "Python 3",
   "language": "python",
   "name": "python3"
  },
  "language_info": {
   "codemirror_mode": {
    "name": "ipython",
    "version": 3
   },
   "file_extension": ".py",
   "mimetype": "text/x-python",
   "name": "python",
   "nbconvert_exporter": "python",
   "pygments_lexer": "ipython3",
   "version": "3.6.11"
  }
 },
 "nbformat": 4,
 "nbformat_minor": 4
}
